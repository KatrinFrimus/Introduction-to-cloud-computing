{
  "nbformat": 4,
  "nbformat_minor": 0,
  "metadata": {
    "colab": {
      "provenance": [],
      "authorship_tag": "ABX9TyM3ja7Hg28Pzvla3REfbtiy",
      "include_colab_link": true
    },
    "kernelspec": {
      "name": "python3",
      "display_name": "Python 3"
    },
    "language_info": {
      "name": "python"
    }
  },
  "cells": [
    {
      "cell_type": "markdown",
      "metadata": {
        "id": "view-in-github",
        "colab_type": "text"
      },
      "source": [
        "<a href=\"https://colab.research.google.com/github/KatrinFrimus/Introduction-to-cloud-computing/blob/main/tirgul5_1.ipynb\" target=\"_parent\"><img src=\"https://colab.research.google.com/assets/colab-badge.svg\" alt=\"Open In Colab\"/></a>"
      ]
    },
    {
      "cell_type": "code",
      "source": [
        "!pip install firebase\n"
      ],
      "metadata": {
        "colab": {
          "base_uri": "https://localhost:8080/"
        },
        "id": "JEN-J0jutB7P",
        "outputId": "a4d5e3c3-4cb5-4556-fa0f-10ebb236b2fa"
      },
      "execution_count": 25,
      "outputs": [
        {
          "output_type": "stream",
          "name": "stdout",
          "text": [
            "Requirement already satisfied: firebase in /usr/local/lib/python3.10/dist-packages (4.0.1)\n",
            "Requirement already satisfied: requests in /usr/local/lib/python3.10/dist-packages (from firebase) (2.31.0)\n",
            "Requirement already satisfied: charset-normalizer<4,>=2 in /usr/local/lib/python3.10/dist-packages (from requests->firebase) (3.3.2)\n",
            "Requirement already satisfied: idna<4,>=2.5 in /usr/local/lib/python3.10/dist-packages (from requests->firebase) (3.7)\n",
            "Requirement already satisfied: urllib3<3,>=1.21.1 in /usr/local/lib/python3.10/dist-packages (from requests->firebase) (2.0.7)\n",
            "Requirement already satisfied: certifi>=2017.4.17 in /usr/local/lib/python3.10/dist-packages (from requests->firebase) (2024.6.2)\n"
          ]
        }
      ]
    },
    {
      "cell_type": "code",
      "source": [
        "import pandas as pd\n",
        "import matplotlib.pyplot as plt\n",
        "import json\n",
        "\n",
        "from google.colab import drive\n",
        "drive.mount('/content/drive',force_remount=True)\n",
        "with open('/content/drive/My Drive/students.json', \"r\") as fid:\n",
        "     z = json.load(fid)\n",
        "#dic = json.loads('/content/drive/My Drive/students.json')\n",
        "\n",
        "print(json.dumps(z))\n",
        "\n"
      ],
      "metadata": {
        "colab": {
          "base_uri": "https://localhost:8080/"
        },
        "id": "ecQTaQKS1pTW",
        "outputId": "bdfedda4-f4e5-432e-ee0b-3c7cd0090e79"
      },
      "execution_count": 26,
      "outputs": [
        {
          "output_type": "stream",
          "name": "stdout",
          "text": [
            "Mounted at /content/drive\n",
            "[{\"name\": \"lital hiabetov\", \"gmail\": \"litalhaibetov@braude.ac.il\"}, {\"name\": \"katrin frimus\", \"gmail\": \"katrinfrimus@braude.ac.il\"}, {\"name\": \"adar budomski\", \"gmail\": \"adarbudomski@braude.ac.il\"}, {\"name\": \"tomer ben lulu\", \"gmail\": \"tomer@braude.ac.il\"}, {\"name\": \"shoval ben shushan\", \"gmail\": \"shoval@braude.ac.il\"}, {\"name\": \"yotam gilad\", \"gmail\": \"yotamgilad@braude.ac.il\"}]\n"
          ]
        }
      ]
    },
    {
      "cell_type": "code",
      "execution_count": 27,
      "metadata": {
        "collapsed": true,
        "id": "GU-LA5F2sq69",
        "colab": {
          "base_uri": "https://localhost:8080/"
        },
        "outputId": "c9c66f99-bb13-4d4f-8b74-c858500fdf25"
      },
      "outputs": [
        {
          "output_type": "stream",
          "name": "stdout",
          "text": [
            "{'name': '-O0cuvgfhDXuV1rHd1lP'}\n"
          ]
        }
      ],
      "source": [
        "from firebase import firebase\n",
        "FBconn = firebase.FirebaseApplication('https://cloudtirgul5-69dff-default-rtdb.firebaseio.com/',None)\n",
        "\n",
        "result = FBconn.post('/cloudtirgul5/',z)\n",
        "print(result)\n"
      ]
    },
    {
      "cell_type": "code",
      "source": [
        "from firebase import firebase\n",
        "\n",
        "firebase = firebase.FirebaseApplication('https://cloudtirgul5-69dff-default-rtdb.firebaseio.com/', None)\n",
        "result = firebase.get('/cloudtirgul5', None)\n",
        "print(result)\n"
      ],
      "metadata": {
        "colab": {
          "base_uri": "https://localhost:8080/"
        },
        "id": "Jr1E-wZIymzj",
        "outputId": "c7b0af7d-3b1a-42a9-faf2-37b1491c110a"
      },
      "execution_count": 28,
      "outputs": [
        {
          "output_type": "stream",
          "name": "stdout",
          "text": [
            "{'-O0cuvgfhDXuV1rHd1lP': [{'gmail': 'litalhaibetov@braude.ac.il', 'name': 'lital hiabetov'}, {'gmail': 'katrinfrimus@braude.ac.il', 'name': 'katrin frimus'}, {'gmail': 'adarbudomski@braude.ac.il', 'name': 'adar budomski'}, {'gmail': 'tomer@braude.ac.il', 'name': 'tomer ben lulu'}, {'gmail': 'shoval@braude.ac.il', 'name': 'shoval ben shushan'}, {'gmail': 'yotamgilad@braude.ac.il', 'name': 'yotam gilad'}]}\n"
          ]
        }
      ]
    }
  ]
}